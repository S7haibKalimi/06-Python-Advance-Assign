{
 "cells": [
  {
   "cell_type": "markdown",
   "id": "ff9c6f5d",
   "metadata": {},
   "source": [
    "# Q1. Describe three applications for exception processing."
   ]
  },
  {
   "cell_type": "markdown",
   "id": "6dcaa0ac",
   "metadata": {},
   "source": [
    "The 3 kinds of errors are SyntaxError (occurs when their is some mistake in the structure of code) , FileNotFoundError (occurs when some file is called but it is missing) and ValueError (occurs when a value is called with an invalid value). We can handle these errors by using Try Except Block or Try Else Block."
   ]
  },
  {
   "cell_type": "markdown",
   "id": "ac063bb5",
   "metadata": {},
   "source": [
    "# Q2. What happens if you don&#39;t do something extra to treat an exception?"
   ]
  },
  {
   "cell_type": "markdown",
   "id": "44b68ae8",
   "metadata": {},
   "source": [
    "The code will through error once reached the error statement and will not get executed further."
   ]
  },
  {
   "cell_type": "markdown",
   "id": "52efb14e",
   "metadata": {},
   "source": [
    "# Q3. What are your options for recovering from an exception in your script?"
   ]
  },
  {
   "cell_type": "markdown",
   "id": "6d0b4ac8",
   "metadata": {},
   "source": [
    "We can use try except block it will prevent our code from get stucked in between, it will surpass the error part also we can use try else block which performs the task specified in else block if no error found. "
   ]
  },
  {
   "cell_type": "markdown",
   "id": "eae3bc97",
   "metadata": {},
   "source": [
    "# Q4. Describe two methods for triggering exceptions in your script."
   ]
  },
  {
   "cell_type": "markdown",
   "id": "edf20008",
   "metadata": {},
   "source": [
    "raise method: We can define the condition manually at which we want our code to through error by using the raise keyword.\n",
    "\n",
    "try except else block: We can ignore the error statement by using the try except block it will run further code ignoring the error statement, else statement will execute the predescribed command irrespective of the error."
   ]
  },
  {
   "cell_type": "markdown",
   "id": "2c43da99",
   "metadata": {},
   "source": [
    "# Q5. Identify two methods for specifying actions to be executed at termination time, regardless of whether or not an exception exists."
   ]
  },
  {
   "cell_type": "markdown",
   "id": "62419383",
   "metadata": {},
   "source": [
    "If there exists an error it will ignore it else it will execute the code line by line on using try except block and the second method is using else alongwith the try except block, It really does not care about the error statement it executes the else block compulsorily. "
   ]
  },
  {
   "cell_type": "code",
   "execution_count": null,
   "id": "04a69c9a",
   "metadata": {},
   "outputs": [],
   "source": []
  }
 ],
 "metadata": {
  "kernelspec": {
   "display_name": "Python 3 (ipykernel)",
   "language": "python",
   "name": "python3"
  },
  "language_info": {
   "codemirror_mode": {
    "name": "ipython",
    "version": 3
   },
   "file_extension": ".py",
   "mimetype": "text/x-python",
   "name": "python",
   "nbconvert_exporter": "python",
   "pygments_lexer": "ipython3",
   "version": "3.9.12"
  }
 },
 "nbformat": 4,
 "nbformat_minor": 5
}
